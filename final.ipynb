# 📌 Telco Customer Churn Prediction Pipeline (with Label Encoding Only)

# ==============================
# 1. Import Libraries
# ==============================
import pandas as pd
import numpy as np
import matplotlib.pyplot as plt
import seaborn as sns

from sklearn.model_selection import train_test_split, GridSearchCV
from sklearn.preprocessing import LabelEncoder, StandardScaler
from sklearn.metrics import accuracy_score, precision_score, recall_score, f1_score, classification_report

from sklearn.linear_model import LogisticRegression
from sklearn.ensemble import RandomForestClassifier
from xgboost import XGBClassifier
from lightgbm import LGBMClassifier
from sklearn.svm import SVC
from catboost import CatBoostClassifier

from imblearn.over_sampling import SMOTE

# ==============================
# 2. Load Dataset
# ==============================
df = pd.read_csv("data.csv")
print("Initial Data Shape:", df.shape)
print(df.head())

# ==============================
# 3. EDA - Basic Distribution
# ==============================
# Gender Distribution
sns.countplot(x="gender", data=df)
plt.title("Gender Distribution")
plt.show()

# Churn vs Non-Churn Revenue Analysis
df["TotalCharges"] = pd.to_numeric(df["TotalCharges"], errors="coerce")
df["TotalCharges"] = df["TotalCharges"].fillna(df["MonthlyCharges"] * df["tenure"])

plt.figure(figsize=(6,4))
sns.boxplot(x="Churn", y="TotalCharges", data=df)
plt.title("Revenue Distribution by Churn")
plt.show()

# ==============================
# 4. Data Preprocessing
# ==============================
# Drop customerID
df = df.drop("customerID", axis=1)

# Print before transformation##################################
# print("\n🔹 Before Preprocessing (first 5 rows):")
# print(df.head())

# Label Encoding categorical features
label_encoders = {}
for col in df.select_dtypes(include="object").columns:
    le = LabelEncoder()
    df[col] = le.fit_transform(df[col])
    label_encoders[col] = le

# ==============================
# 4a. Compare Before vs After Preprocessing
# Transpose so columns become rows
before_after = pd.concat([
    df_raw.head().T.rename(columns=lambda x: f"Row{x+1}_Before"),
    df.head().T.rename(columns=lambda x: f"Row{x+1}_After")
], axis=1)

print("\n🔎 Column-wise Before vs After (First 5 rows):")
display(before_after)

# ==============================
# Reload raw dataset to compare side by side
##########################################################################################################
# df_raw = pd.read_csv("data.csv")
# df_raw["TotalCharges"] = pd.to_numeric(df_raw["TotalCharges"], errors="coerce")
# df_raw["TotalCharges"] = df_raw["TotalCharges"].fillna(df_raw["MonthlyCharges"] * df_raw["tenure"])
# df_raw = df_raw.drop("customerID", axis=1)

# # Create comparison DataFrame (first 5 rows for all columns)
# comparison = pd.concat([df_raw.head().reset_index(drop=True), df.head().reset_index(drop=True)], 
#                        axis=1, keys=["Before_Preprocessing","After_Preprocessing"])

# print("\n🔎 Comparison of First 5 Rows (Before vs After Preprocessing):")
# display(comparison)


# # Print after transformation
# print("\n🔹 After Preprocessing (first 5 rows):")
# print(df.head())
##########################################################################################################
# ==============================
# 5. Feature & Target Split
# ==============================
X = df.drop("Churn", axis=1)
y = df["Churn"]

# Train-Test Split
X_train, X_test, y_train, y_test = train_test_split(X, y, test_size=0.2, random_state=42, stratify=y)

# ==============================
# 6. Scaling + SMOTE
# ==============================
scaler = StandardScaler()
X_train_scaled = scaler.fit_transform(X_train)
X_test_scaled = scaler.transform(X_test)

# Apply SMOTE
smote = SMOTE(random_state=42)
X_train_sm, y_train_sm = smote.fit_resample(X_train_scaled, y_train)

print("Train Shape after SMOTE:", X_train_sm.shape, y_train_sm.shape)

# ==============================
# 7. Model Training with Hyperparameter Tuning
# ==============================
models = {
    "Logistic Regression": (LogisticRegression(max_iter=500), 
                            {"C":[0.1,1,10]}),

    "Random Forest": (RandomForestClassifier(random_state=42), 
                      {"n_estimators":[100,200], "max_depth":[5,10]}),

    "XGBoost": (XGBClassifier(use_label_encoder=False, eval_metric="logloss"), 
                {"n_estimators":[100,200], "learning_rate":[0.05,0.1]}),

    "LightGBM": (LGBMClassifier(random_state=42), 
                 {"n_estimators":[100,200], "learning_rate":[0.05,0.1]}),

    "SVM": (SVC(probability=True), 
            {"C":[0.1,1,10], "kernel":["linear","rbf"]}),

    "CatBoost": (CatBoostClassifier(verbose=0, random_state=42), 
                 {"iterations":[200,300], "depth":[4,6]})
}

results = []
feature_importances = {}

for name, (model, params) in models.items():
    print(f"\n📌 Training {name} ...")
    grid = GridSearchCV(model, params, cv=3, scoring="accuracy", n_jobs=-1)
    grid.fit(pd.DataFrame(X_train_sm, columns=X.columns), y_train_sm)
    
    best_model = grid.best_estimator_
    y_pred = best_model.predict(pd.DataFrame(X_test_scaled, columns=X.columns))
    
    acc = accuracy_score(y_test, y_pred)
    prec = precision_score(y_test, y_pred)
    rec = recall_score(y_test, y_pred)
    f1 = f1_score(y_test, y_pred)
    
    results.append([name, acc, prec, rec, f1])
    print(f"Accuracy: {acc:.4f}, Precision: {prec:.4f}, Recall: {rec:.4f}, F1: {f1:.4f}")
    print(classification_report(y_test, y_pred))
    
    # Feature Importance
    if hasattr(best_model, "feature_importances_"):
        feature_importances[name] = best_model.feature_importances_
    elif name == "Logistic Regression":
        feature_importances[name] = abs(best_model.coef_[0])
    elif name == "SVM":
        # For linear kernel only
        if best_model.kernel == "linear":
            feature_importances[name] = abs(best_model.coef_[0])
    
# ==============================
# 8. Results Comparison
# ==============================
results_df = pd.DataFrame(results, columns=["Model","Accuracy","Precision","Recall","F1 Score"])
print("\n📊 Model Results:\n", results_df)

# Bar Plot with Values
ax = results_df.set_index("Model")[["Accuracy","Precision","Recall","F1 Score"]].plot(kind="bar", figsize=(12,6))
plt.title("📊 Model Comparison")
plt.ylabel("Score")
plt.ylim(0,1)
plt.xticks(rotation=45)
for container in ax.containers:
    ax.bar_label(container, fmt="%.2f")
plt.legend(loc="lower right")
plt.show()

# ==============================
# 9. Feature Importance Plots (Individual)
# ==============================
for model_name, importances in feature_importances.items():
    feat_df = pd.DataFrame({"Feature":X.columns, "Importance":importances})
    feat_df = feat_df.sort_values(by="Importance", ascending=False)
    
    plt.figure(figsize=(10,6))
    sns.barplot(x="Importance", y="Feature", data=feat_df, palette="viridis")
    plt.title(f"🔑 Feature Importance - {model_name}")
    plt.show()
